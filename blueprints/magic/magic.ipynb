{
 "cells": [
  {
   "cell_type": "code",
   "execution_count": 2,
   "metadata": {},
   "outputs": [
    {
     "data": {
      "text/plain": [
       "Index(['routablemask_link', 'routablemask_link/_text',\n",
       "       'routablemask_link/_title', 'routablemask_link_numbers',\n",
       "       'routablemask_content', 'imagebadge_value', 'imagebadge_value_numbers',\n",
       "       'routable_link', 'routable_link/_text', 'routable_link/_title',\n",
       "       'routable_link_numbers', 'listingtype_value', 'pricelarge_value',\n",
       "       'pricelarge_value_prices', 'propertyinfo_value',\n",
       "       'propertyinfo_value_numbers', 'fineprint_value',\n",
       "       'fineprint_value_numbers', 'tozcount_number', 'tozfresh_value',\n",
       "       'tablegrouped_values', 'tablegrouped_values_prices', '_PAGE_NUMBER'],\n",
       "      dtype='object')"
      ]
     },
     "execution_count": 2,
     "metadata": {},
     "output_type": "execute_result"
    }
   ],
   "source": [
    "import pandas as pd\n",
    "import re\n",
    "import numpy as np\n",
    "import matplotlib.pyplot as plt\n",
    "\n",
    "plt.style.use(\"ggplot\")\n",
    "pd.set_option(\"display.max_columns\", 30)\n",
    "pd.set_option(\"display.max_colwidth\", 100)\n",
    "pd.set_option(\"display.precision\", 3)\n",
    "\n",
    "CSV_PATH = r\"./magic.csv\"\n",
    "\n",
    "df = pd.read_csv(CSV_PATH)\n",
    "df.columns"
   ]
  },
  {
   "cell_type": "code",
   "execution_count": 3,
   "metadata": {},
   "outputs": [
    {
     "data": {
      "text/html": [
       "<div>\n",
       "<style scoped>\n",
       "    .dataframe tbody tr th:only-of-type {\n",
       "        vertical-align: middle;\n",
       "    }\n",
       "\n",
       "    .dataframe tbody tr th {\n",
       "        vertical-align: top;\n",
       "    }\n",
       "\n",
       "    .dataframe thead th {\n",
       "        text-align: right;\n",
       "    }\n",
       "</style>\n",
       "<table border=\"1\" class=\"dataframe\">\n",
       "  <thead>\n",
       "    <tr style=\"text-align: right;\">\n",
       "      <th></th>\n",
       "      <th>0</th>\n",
       "      <th>1</th>\n",
       "      <th>2</th>\n",
       "      <th>3</th>\n",
       "      <th>4</th>\n",
       "    </tr>\n",
       "  </thead>\n",
       "  <tbody>\n",
       "    <tr>\n",
       "      <th>routablemask_link</th>\n",
       "      <td>http://www.zillow.com/b/2-Ellwood-St-New-York-NY/40.85899,-73.92814_ll/</td>\n",
       "      <td>http://www.zillow.com/b/603-W-140th-St-New-York-NY/40.82376,-73.95335_ll/</td>\n",
       "      <td>http://www.zillow.com/homedetails/9-E-129th-St-1-New-York-NY-10035/2100761096_zpid/</td>\n",
       "      <td>http://www.zillow.com/homedetails/710-Riverside-Dr-APT-2C-New-York-NY-10031/124451755_zpid/</td>\n",
       "      <td>http://www.zillow.com/homedetails/413-E-84th-St-APT-8-New-York-NY-10028/2100761260_zpid/</td>\n",
       "    </tr>\n",
       "    <tr>\n",
       "      <th>routablemask_link/_text</th>\n",
       "      <td>5 photos</td>\n",
       "      <td>10 photos</td>\n",
       "      <td>NaN</td>\n",
       "      <td>9 photos</td>\n",
       "      <td>5 photos</td>\n",
       "    </tr>\n",
       "    <tr>\n",
       "      <th>routablemask_link/_title</th>\n",
       "      <td>NaN</td>\n",
       "      <td>NaN</td>\n",
       "      <td>NaN</td>\n",
       "      <td>NaN</td>\n",
       "      <td>NaN</td>\n",
       "    </tr>\n",
       "    <tr>\n",
       "      <th>routablemask_link_numbers</th>\n",
       "      <td>5.0</td>\n",
       "      <td>10.0</td>\n",
       "      <td>NaN</td>\n",
       "      <td>9.0</td>\n",
       "      <td>5.0</td>\n",
       "    </tr>\n",
       "    <tr>\n",
       "      <th>routablemask_content</th>\n",
       "      <td>NaN</td>\n",
       "      <td>NaN</td>\n",
       "      <td>NaN</td>\n",
       "      <td>NaN</td>\n",
       "      <td>NaN</td>\n",
       "    </tr>\n",
       "    <tr>\n",
       "      <th>imagebadge_value</th>\n",
       "      <td>5 photos</td>\n",
       "      <td>10 photos</td>\n",
       "      <td>NaN</td>\n",
       "      <td>9 photos</td>\n",
       "      <td>5 photos</td>\n",
       "    </tr>\n",
       "    <tr>\n",
       "      <th>imagebadge_value_numbers</th>\n",
       "      <td>5.0</td>\n",
       "      <td>10.0</td>\n",
       "      <td>NaN</td>\n",
       "      <td>9.0</td>\n",
       "      <td>5.0</td>\n",
       "    </tr>\n",
       "    <tr>\n",
       "      <th>routable_link</th>\n",
       "      <td>http://www.zillow.com/b/2-Ellwood-St-New-York-NY/40.85899,-73.92814_ll/</td>\n",
       "      <td>http://www.zillow.com/b/603-W-140th-St-New-York-NY/40.82376,-73.95335_ll/</td>\n",
       "      <td>http://www.zillow.com/homedetails/9-E-129th-St-1-New-York-NY-10035/2100761096_zpid/</td>\n",
       "      <td>http://www.zillow.com/homedetails/710-Riverside-Dr-APT-2C-New-York-NY-10031/124451755_zpid/</td>\n",
       "      <td>http://www.zillow.com/homedetails/413-E-84th-St-APT-8-New-York-NY-10028/2100761260_zpid/</td>\n",
       "    </tr>\n",
       "    <tr>\n",
       "      <th>routable_link/_text</th>\n",
       "      <td>2 Ellwood St</td>\n",
       "      <td>603 W 140th St</td>\n",
       "      <td>9 E 129th St # 1, New York, NY10035</td>\n",
       "      <td>710 Riverside Dr APT 2C, New York, NY10031</td>\n",
       "      <td>413 E 84th St APT 8, New York, NY10028</td>\n",
       "    </tr>\n",
       "    <tr>\n",
       "      <th>routable_link/_title</th>\n",
       "      <td>2 Ellwood St APT 5H, New York, NY Real Estate</td>\n",
       "      <td>603 W 140th St APT 44, New York, NY Real Estate</td>\n",
       "      <td>9 E 129th St # 1, New York, NY Real Estate</td>\n",
       "      <td>710 Riverside Dr APT 2C, New York, NY Real Estate</td>\n",
       "      <td>413 E 84th St APT 8, New York, NY Real Estate</td>\n",
       "    </tr>\n",
       "    <tr>\n",
       "      <th>routable_link_numbers</th>\n",
       "      <td>2</td>\n",
       "      <td>603; 140</td>\n",
       "      <td>9; 129; 1</td>\n",
       "      <td>710; 2</td>\n",
       "      <td>413; 84; 8</td>\n",
       "    </tr>\n",
       "    <tr>\n",
       "      <th>listingtype_value</th>\n",
       "      <td>Apartments For Rent</td>\n",
       "      <td>Apartments For Rent</td>\n",
       "      <td>Apartment For Rent</td>\n",
       "      <td>Apartment For Rent</td>\n",
       "      <td>Apartment For Rent</td>\n",
       "    </tr>\n",
       "    <tr>\n",
       "      <th>pricelarge_value</th>\n",
       "      <td>NaN</td>\n",
       "      <td>NaN</td>\n",
       "      <td>$1,750/mo</td>\n",
       "      <td>$3,000/mo</td>\n",
       "      <td>$2,300/mo</td>\n",
       "    </tr>\n",
       "    <tr>\n",
       "      <th>pricelarge_value_prices</th>\n",
       "      <td>NaN</td>\n",
       "      <td>NaN</td>\n",
       "      <td>1750.0</td>\n",
       "      <td>3000.0</td>\n",
       "      <td>2300.0</td>\n",
       "    </tr>\n",
       "    <tr>\n",
       "      <th>propertyinfo_value</th>\n",
       "      <td>2 Ellwood St, New York, NY</td>\n",
       "      <td>603 W 140th St, New York, NY</td>\n",
       "      <td>1 bd • 1 ba</td>\n",
       "      <td>2 bds • 2 ba • 1,016 sqft</td>\n",
       "      <td>Studio • 1 ba</td>\n",
       "    </tr>\n",
       "    <tr>\n",
       "      <th>propertyinfo_value_numbers</th>\n",
       "      <td>2</td>\n",
       "      <td>603; 140</td>\n",
       "      <td>1; 1</td>\n",
       "      <td>2; 2; 1016</td>\n",
       "      <td>1</td>\n",
       "    </tr>\n",
       "    <tr>\n",
       "      <th>fineprint_value</th>\n",
       "      <td>6 matching units</td>\n",
       "      <td>2 matching units</td>\n",
       "      <td>NaN</td>\n",
       "      <td>NaN</td>\n",
       "      <td>NaN</td>\n",
       "    </tr>\n",
       "    <tr>\n",
       "      <th>fineprint_value_numbers</th>\n",
       "      <td>6.0</td>\n",
       "      <td>2.0</td>\n",
       "      <td>NaN</td>\n",
       "      <td>NaN</td>\n",
       "      <td>NaN</td>\n",
       "    </tr>\n",
       "    <tr>\n",
       "      <th>tozcount_number</th>\n",
       "      <td>NaN</td>\n",
       "      <td>NaN</td>\n",
       "      <td>48.0</td>\n",
       "      <td>1.0</td>\n",
       "      <td>2.0</td>\n",
       "    </tr>\n",
       "    <tr>\n",
       "      <th>tozfresh_value</th>\n",
       "      <td>Updated today</td>\n",
       "      <td>Updated today</td>\n",
       "      <td>minutes ago</td>\n",
       "      <td>hour ago</td>\n",
       "      <td>hours ago</td>\n",
       "    </tr>\n",
       "    <tr>\n",
       "      <th>tablegrouped_values</th>\n",
       "      <td>1 Bedrooms $1,500+ 1.0 ba -- sqft; 2 Bedrooms $1,750+ 1.0 ba -- sqft</td>\n",
       "      <td>1 Bedrooms $2,100 1.0 ba 800 sqft; 2 Bedrooms $2,595 1.0 ba 1,000 sqft</td>\n",
       "      <td>NaN</td>\n",
       "      <td>NaN</td>\n",
       "      <td>NaN</td>\n",
       "    </tr>\n",
       "    <tr>\n",
       "      <th>tablegrouped_values_prices</th>\n",
       "      <td>1500; 1750</td>\n",
       "      <td>2100; 2595</td>\n",
       "      <td>NaN</td>\n",
       "      <td>NaN</td>\n",
       "      <td>NaN</td>\n",
       "    </tr>\n",
       "    <tr>\n",
       "      <th>_PAGE_NUMBER</th>\n",
       "      <td>1</td>\n",
       "      <td>1</td>\n",
       "      <td>1</td>\n",
       "      <td>1</td>\n",
       "      <td>1</td>\n",
       "    </tr>\n",
       "  </tbody>\n",
       "</table>\n",
       "</div>"
      ],
      "text/plain": [
       "                                                                                                  0  \\\n",
       "routablemask_link           http://www.zillow.com/b/2-Ellwood-St-New-York-NY/40.85899,-73.92814_ll/   \n",
       "routablemask_link/_text                                                                    5 photos   \n",
       "routablemask_link/_title                                                                        NaN   \n",
       "routablemask_link_numbers                                                                       5.0   \n",
       "routablemask_content                                                                            NaN   \n",
       "imagebadge_value                                                                           5 photos   \n",
       "imagebadge_value_numbers                                                                        5.0   \n",
       "routable_link               http://www.zillow.com/b/2-Ellwood-St-New-York-NY/40.85899,-73.92814_ll/   \n",
       "routable_link/_text                                                                    2 Ellwood St   \n",
       "routable_link/_title                                  2 Ellwood St APT 5H, New York, NY Real Estate   \n",
       "routable_link_numbers                                                                             2   \n",
       "listingtype_value                                                               Apartments For Rent   \n",
       "pricelarge_value                                                                                NaN   \n",
       "pricelarge_value_prices                                                                         NaN   \n",
       "propertyinfo_value                                                       2 Ellwood St, New York, NY   \n",
       "propertyinfo_value_numbers                                                                        2   \n",
       "fineprint_value                                                                    6 matching units   \n",
       "fineprint_value_numbers                                                                         6.0   \n",
       "tozcount_number                                                                                 NaN   \n",
       "tozfresh_value                                                                        Updated today   \n",
       "tablegrouped_values            1 Bedrooms $1,500+ 1.0 ba -- sqft; 2 Bedrooms $1,750+ 1.0 ba -- sqft   \n",
       "tablegrouped_values_prices                                                               1500; 1750   \n",
       "_PAGE_NUMBER                                                                                      1   \n",
       "\n",
       "                                                                                                    1  \\\n",
       "routablemask_link           http://www.zillow.com/b/603-W-140th-St-New-York-NY/40.82376,-73.95335_ll/   \n",
       "routablemask_link/_text                                                                     10 photos   \n",
       "routablemask_link/_title                                                                          NaN   \n",
       "routablemask_link_numbers                                                                        10.0   \n",
       "routablemask_content                                                                              NaN   \n",
       "imagebadge_value                                                                            10 photos   \n",
       "imagebadge_value_numbers                                                                         10.0   \n",
       "routable_link               http://www.zillow.com/b/603-W-140th-St-New-York-NY/40.82376,-73.95335_ll/   \n",
       "routable_link/_text                                                                    603 W 140th St   \n",
       "routable_link/_title                                  603 W 140th St APT 44, New York, NY Real Estate   \n",
       "routable_link_numbers                                                                        603; 140   \n",
       "listingtype_value                                                                 Apartments For Rent   \n",
       "pricelarge_value                                                                                  NaN   \n",
       "pricelarge_value_prices                                                                           NaN   \n",
       "propertyinfo_value                                                       603 W 140th St, New York, NY   \n",
       "propertyinfo_value_numbers                                                                   603; 140   \n",
       "fineprint_value                                                                      2 matching units   \n",
       "fineprint_value_numbers                                                                           2.0   \n",
       "tozcount_number                                                                                   NaN   \n",
       "tozfresh_value                                                                          Updated today   \n",
       "tablegrouped_values            1 Bedrooms $2,100 1.0 ba 800 sqft; 2 Bedrooms $2,595 1.0 ba 1,000 sqft   \n",
       "tablegrouped_values_prices                                                                 2100; 2595   \n",
       "_PAGE_NUMBER                                                                                        1   \n",
       "\n",
       "                                                                                                              2  \\\n",
       "routablemask_link           http://www.zillow.com/homedetails/9-E-129th-St-1-New-York-NY-10035/2100761096_zpid/   \n",
       "routablemask_link/_text                                                                                     NaN   \n",
       "routablemask_link/_title                                                                                    NaN   \n",
       "routablemask_link_numbers                                                                                   NaN   \n",
       "routablemask_content                                                                                        NaN   \n",
       "imagebadge_value                                                                                            NaN   \n",
       "imagebadge_value_numbers                                                                                    NaN   \n",
       "routable_link               http://www.zillow.com/homedetails/9-E-129th-St-1-New-York-NY-10035/2100761096_zpid/   \n",
       "routable_link/_text                                                         9 E 129th St # 1, New York, NY10035   \n",
       "routable_link/_title                                                 9 E 129th St # 1, New York, NY Real Estate   \n",
       "routable_link_numbers                                                                                 9; 129; 1   \n",
       "listingtype_value                                                                            Apartment For Rent   \n",
       "pricelarge_value                                                                                      $1,750/mo   \n",
       "pricelarge_value_prices                                                                                  1750.0   \n",
       "propertyinfo_value                                                                                  1 bd • 1 ba   \n",
       "propertyinfo_value_numbers                                                                                 1; 1   \n",
       "fineprint_value                                                                                             NaN   \n",
       "fineprint_value_numbers                                                                                     NaN   \n",
       "tozcount_number                                                                                            48.0   \n",
       "tozfresh_value                                                                                      minutes ago   \n",
       "tablegrouped_values                                                                                         NaN   \n",
       "tablegrouped_values_prices                                                                                  NaN   \n",
       "_PAGE_NUMBER                                                                                                  1   \n",
       "\n",
       "                                                                                                                      3  \\\n",
       "routablemask_link           http://www.zillow.com/homedetails/710-Riverside-Dr-APT-2C-New-York-NY-10031/124451755_zpid/   \n",
       "routablemask_link/_text                                                                                        9 photos   \n",
       "routablemask_link/_title                                                                                            NaN   \n",
       "routablemask_link_numbers                                                                                           9.0   \n",
       "routablemask_content                                                                                                NaN   \n",
       "imagebadge_value                                                                                               9 photos   \n",
       "imagebadge_value_numbers                                                                                            9.0   \n",
       "routable_link               http://www.zillow.com/homedetails/710-Riverside-Dr-APT-2C-New-York-NY-10031/124451755_zpid/   \n",
       "routable_link/_text                                                          710 Riverside Dr APT 2C, New York, NY10031   \n",
       "routable_link/_title                                                  710 Riverside Dr APT 2C, New York, NY Real Estate   \n",
       "routable_link_numbers                                                                                            710; 2   \n",
       "listingtype_value                                                                                    Apartment For Rent   \n",
       "pricelarge_value                                                                                              $3,000/mo   \n",
       "pricelarge_value_prices                                                                                          3000.0   \n",
       "propertyinfo_value                                                                            2 bds • 2 ba • 1,016 sqft   \n",
       "propertyinfo_value_numbers                                                                                   2; 2; 1016   \n",
       "fineprint_value                                                                                                     NaN   \n",
       "fineprint_value_numbers                                                                                             NaN   \n",
       "tozcount_number                                                                                                     1.0   \n",
       "tozfresh_value                                                                                                 hour ago   \n",
       "tablegrouped_values                                                                                                 NaN   \n",
       "tablegrouped_values_prices                                                                                          NaN   \n",
       "_PAGE_NUMBER                                                                                                          1   \n",
       "\n",
       "                                                                                                                   4  \n",
       "routablemask_link           http://www.zillow.com/homedetails/413-E-84th-St-APT-8-New-York-NY-10028/2100761260_zpid/  \n",
       "routablemask_link/_text                                                                                     5 photos  \n",
       "routablemask_link/_title                                                                                         NaN  \n",
       "routablemask_link_numbers                                                                                        5.0  \n",
       "routablemask_content                                                                                             NaN  \n",
       "imagebadge_value                                                                                            5 photos  \n",
       "imagebadge_value_numbers                                                                                         5.0  \n",
       "routable_link               http://www.zillow.com/homedetails/413-E-84th-St-APT-8-New-York-NY-10028/2100761260_zpid/  \n",
       "routable_link/_text                                                           413 E 84th St APT 8, New York, NY10028  \n",
       "routable_link/_title                                                   413 E 84th St APT 8, New York, NY Real Estate  \n",
       "routable_link_numbers                                                                                     413; 84; 8  \n",
       "listingtype_value                                                                                 Apartment For Rent  \n",
       "pricelarge_value                                                                                           $2,300/mo  \n",
       "pricelarge_value_prices                                                                                       2300.0  \n",
       "propertyinfo_value                                                                                     Studio • 1 ba  \n",
       "propertyinfo_value_numbers                                                                                         1  \n",
       "fineprint_value                                                                                                  NaN  \n",
       "fineprint_value_numbers                                                                                          NaN  \n",
       "tozcount_number                                                                                                  2.0  \n",
       "tozfresh_value                                                                                             hours ago  \n",
       "tablegrouped_values                                                                                              NaN  \n",
       "tablegrouped_values_prices                                                                                       NaN  \n",
       "_PAGE_NUMBER                                                                                                       1  "
      ]
     },
     "execution_count": 3,
     "metadata": {},
     "output_type": "execute_result"
    }
   ],
   "source": [
    "df.head().T"
   ]
  },
  {
   "cell_type": "code",
   "execution_count": 4,
   "metadata": {},
   "outputs": [],
   "source": [
    "mu = df[df['listingtype_value'].str.contains('Apartments For')]\n",
    "su = df[df['listingtype_value'].str.contains('Apartment For')]"
   ]
  },
  {
   "cell_type": "code",
   "execution_count": 5,
   "metadata": {},
   "outputs": [
    {
     "data": {
      "text/plain": [
       "2                    1 bd • 1 ba\n",
       "3      2 bds • 2 ba • 1,016 sqft\n",
       "4                  Studio • 1 ba\n",
       "5                   2 bds • 1 ba\n",
       "7                   2 bds • 1 ba\n",
       "                 ...            \n",
       "490                  1 bd • 1 ba\n",
       "492                  1 bd • 1 ba\n",
       "496                Studio • 1 ba\n",
       "497     Studio • 1 ba • 550 sqft\n",
       "499                  1 bd • 1 ba\n",
       "Name: propertyinfo_value, Length: 339, dtype: object"
      ]
     },
     "execution_count": 5,
     "metadata": {},
     "output_type": "execute_result"
    }
   ],
   "source": [
    "su['propertyinfo_value']"
   ]
  },
  {
   "cell_type": "code",
   "execution_count": 6,
   "metadata": {},
   "outputs": [
    {
     "data": {
      "text/plain": [
       "0"
      ]
     },
     "execution_count": 6,
     "metadata": {},
     "output_type": "execute_result"
    }
   ],
   "source": [
    "len(su[~(su['propertyinfo_value'].str.contains('Studio') | su['propertyinfo_value'].str.contains('bd'))])"
   ]
  },
  {
   "cell_type": "code",
   "execution_count": 7,
   "metadata": {},
   "outputs": [
    {
     "data": {
      "text/plain": [
       "122"
      ]
     },
     "execution_count": 7,
     "metadata": {},
     "output_type": "execute_result"
    }
   ],
   "source": [
    "len(su[~(su['propertyinfo_value'].str.contains('bd'))])"
   ]
  },
  {
   "cell_type": "code",
   "execution_count": 8,
   "metadata": {},
   "outputs": [
    {
     "data": {
      "text/plain": [
       "84     Studio\n",
       "106      1 bd\n",
       "150    Studio\n",
       "225      1 bd\n",
       "313    Studio\n",
       "331      1 bd\n",
       "Name: propertyinfo_value, dtype: object"
      ]
     },
     "execution_count": 8,
     "metadata": {},
     "output_type": "execute_result"
    }
   ],
   "source": [
    "su[~(su['propertyinfo_value'].str.contains('ba'))]['propertyinfo_value']"
   ]
  },
  {
   "cell_type": "code",
   "execution_count": 9,
   "metadata": {},
   "outputs": [],
   "source": [
    "no_baths = su[~(su['propertyinfo_value'].str.contains('ba'))]"
   ]
  },
  {
   "cell_type": "code",
   "execution_count": 10,
   "metadata": {},
   "outputs": [],
   "source": [
    "sucln = su[~su.index.isin(no_baths.index)]"
   ]
  },
  {
   "cell_type": "code",
   "execution_count": 12,
   "metadata": {},
   "outputs": [],
   "source": [
    "def parse_info(row):\n",
    "  if not 'sqft' in row:\n",
    "    br, ba = row.split('•')[:2]\n",
    "    sqft = np.nan\n",
    "  else:\n",
    "    br, ba, sqft = row.split('•')[:3]\n",
    "  return pd.Series({'Beds': br, 'Baths':ba, 'Sqrt':sqft})\n",
    "\n",
    "attr = sucln['propertyinfo_value'].apply(parse_info)"
   ]
  },
  {
   "cell_type": "code",
   "execution_count": 13,
   "metadata": {},
   "outputs": [],
   "source": [
    "att_cln = attr.applymap(lambda x: x.strip().split(' ')[0] if isinstance (x, str) else np.nan )"
   ]
  },
  {
   "cell_type": "code",
   "execution_count": 14,
   "metadata": {},
   "outputs": [],
   "source": [
    "sujud = sucln.join(att_cln)"
   ]
  },
  {
   "attachments": {},
   "cell_type": "markdown",
   "metadata": {},
   "source": [
    "# parse out zip, floor"
   ]
  },
  {
   "cell_type": "code",
   "execution_count": 16,
   "metadata": {},
   "outputs": [],
   "source": [
    "def parse_addy(r):\n",
    "  so_zip = re.search(', NY(\\d+)', r)\n",
    "  so_flr = re.search('(?:APT|#)\\s+(\\d+)[A-Z]+,', r)\n",
    "  if so_zip:\n",
    "    zipc = so_zip.group(1)\n",
    "  else:\n",
    "    zipc = np.nan\n",
    "  \n",
    "  if so_flr:\n",
    "    flr = so_flr.group(1)\n",
    "  else:\n",
    "    flr = np.nan\n",
    "  return pd.Series({'Zip':zipc, 'Floor':flr})\n",
    "\n",
    "flrzip = sujud['routable_link/_text'].apply(parse_addy)\n",
    "\n",
    "suf = sujud.join(flrzip)\n",
    "\n"
   ]
  },
  {
   "cell_type": "code",
   "execution_count": 31,
   "metadata": {},
   "outputs": [
    {
     "data": {
      "text/plain": [
       "array([ 1.,  2.,  3., nan, nan])"
      ]
     },
     "execution_count": 31,
     "metadata": {},
     "output_type": "execute_result"
    }
   ],
   "source": [
    "# np.isnan(np.array(suf['Zip']))\n",
    "array1 = np.array([1,2,3,np.nan, np.nan])\n",
    "np.isnan(array1)\n",
    "array1"
   ]
  },
  {
   "cell_type": "code",
   "execution_count": 33,
   "metadata": {},
   "outputs": [],
   "source": [
    "sudf = suf[['pricelarge_value_prices','Beds','Baths','Sqrt','Floor','Zip']]"
   ]
  },
  {
   "cell_type": "code",
   "execution_count": 35,
   "metadata": {},
   "outputs": [
    {
     "name": "stderr",
     "output_type": "stream",
     "text": [
      "C:\\Users\\ACER\\AppData\\Local\\Temp\\ipykernel_23036\\2600392517.py:1: SettingWithCopyWarning: \n",
      "A value is trying to be set on a copy of a slice from a DataFrame\n",
      "\n",
      "See the caveats in the documentation: https://pandas.pydata.org/pandas-docs/stable/user_guide/indexing.html#returning-a-view-versus-a-copy\n",
      "  sudf.rename(columns={\n"
     ]
    }
   ],
   "source": [
    "sudf.rename(columns={\n",
    "  'pricelarge_value_prices':'Rent'\n",
    "},inplace = True)"
   ]
  },
  {
   "cell_type": "code",
   "execution_count": 36,
   "metadata": {},
   "outputs": [],
   "source": [
    "sudf.reset_index(drop=True, inplace=True)"
   ]
  },
  {
   "cell_type": "code",
   "execution_count": 37,
   "metadata": {},
   "outputs": [
    {
     "data": {
      "text/html": [
       "<div>\n",
       "<style scoped>\n",
       "    .dataframe tbody tr th:only-of-type {\n",
       "        vertical-align: middle;\n",
       "    }\n",
       "\n",
       "    .dataframe tbody tr th {\n",
       "        vertical-align: top;\n",
       "    }\n",
       "\n",
       "    .dataframe thead th {\n",
       "        text-align: right;\n",
       "    }\n",
       "</style>\n",
       "<table border=\"1\" class=\"dataframe\">\n",
       "  <thead>\n",
       "    <tr style=\"text-align: right;\">\n",
       "      <th></th>\n",
       "      <th>Rent</th>\n",
       "      <th>Beds</th>\n",
       "      <th>Baths</th>\n",
       "      <th>Sqrt</th>\n",
       "      <th>Floor</th>\n",
       "      <th>Zip</th>\n",
       "    </tr>\n",
       "  </thead>\n",
       "  <tbody>\n",
       "    <tr>\n",
       "      <th>0</th>\n",
       "      <td>1750.0</td>\n",
       "      <td>1</td>\n",
       "      <td>1</td>\n",
       "      <td>NaN</td>\n",
       "      <td>NaN</td>\n",
       "      <td>10035</td>\n",
       "    </tr>\n",
       "    <tr>\n",
       "      <th>1</th>\n",
       "      <td>3000.0</td>\n",
       "      <td>2</td>\n",
       "      <td>2</td>\n",
       "      <td>1,016</td>\n",
       "      <td>2</td>\n",
       "      <td>10031</td>\n",
       "    </tr>\n",
       "    <tr>\n",
       "      <th>2</th>\n",
       "      <td>2300.0</td>\n",
       "      <td>Studio</td>\n",
       "      <td>1</td>\n",
       "      <td>NaN</td>\n",
       "      <td>NaN</td>\n",
       "      <td>10028</td>\n",
       "    </tr>\n",
       "    <tr>\n",
       "      <th>3</th>\n",
       "      <td>2500.0</td>\n",
       "      <td>2</td>\n",
       "      <td>1</td>\n",
       "      <td>NaN</td>\n",
       "      <td>6</td>\n",
       "      <td>10035</td>\n",
       "    </tr>\n",
       "    <tr>\n",
       "      <th>4</th>\n",
       "      <td>2800.0</td>\n",
       "      <td>2</td>\n",
       "      <td>1</td>\n",
       "      <td>NaN</td>\n",
       "      <td>NaN</td>\n",
       "      <td>10012</td>\n",
       "    </tr>\n",
       "    <tr>\n",
       "      <th>...</th>\n",
       "      <td>...</td>\n",
       "      <td>...</td>\n",
       "      <td>...</td>\n",
       "      <td>...</td>\n",
       "      <td>...</td>\n",
       "      <td>...</td>\n",
       "    </tr>\n",
       "    <tr>\n",
       "      <th>328</th>\n",
       "      <td>2265.0</td>\n",
       "      <td>1</td>\n",
       "      <td>1</td>\n",
       "      <td>NaN</td>\n",
       "      <td>NaN</td>\n",
       "      <td>10021</td>\n",
       "    </tr>\n",
       "    <tr>\n",
       "      <th>329</th>\n",
       "      <td>2150.0</td>\n",
       "      <td>1</td>\n",
       "      <td>1</td>\n",
       "      <td>NaN</td>\n",
       "      <td>4</td>\n",
       "      <td>10028</td>\n",
       "    </tr>\n",
       "    <tr>\n",
       "      <th>330</th>\n",
       "      <td>2195.0</td>\n",
       "      <td>Studio</td>\n",
       "      <td>1</td>\n",
       "      <td>NaN</td>\n",
       "      <td>3</td>\n",
       "      <td>10019</td>\n",
       "    </tr>\n",
       "    <tr>\n",
       "      <th>331</th>\n",
       "      <td>1795.0</td>\n",
       "      <td>Studio</td>\n",
       "      <td>1</td>\n",
       "      <td>550</td>\n",
       "      <td>NaN</td>\n",
       "      <td>10035</td>\n",
       "    </tr>\n",
       "    <tr>\n",
       "      <th>332</th>\n",
       "      <td>2150.0</td>\n",
       "      <td>1</td>\n",
       "      <td>1</td>\n",
       "      <td>NaN</td>\n",
       "      <td>2</td>\n",
       "      <td>10021</td>\n",
       "    </tr>\n",
       "  </tbody>\n",
       "</table>\n",
       "<p>333 rows × 6 columns</p>\n",
       "</div>"
      ],
      "text/plain": [
       "       Rent    Beds Baths   Sqrt Floor    Zip\n",
       "0    1750.0       1     1    NaN   NaN  10035\n",
       "1    3000.0       2     2  1,016     2  10031\n",
       "2    2300.0  Studio     1    NaN   NaN  10028\n",
       "3    2500.0       2     1    NaN     6  10035\n",
       "4    2800.0       2     1    NaN   NaN  10012\n",
       "..      ...     ...   ...    ...   ...    ...\n",
       "328  2265.0       1     1    NaN   NaN  10021\n",
       "329  2150.0       1     1    NaN     4  10028\n",
       "330  2195.0  Studio     1    NaN     3  10019\n",
       "331  1795.0  Studio     1    550   NaN  10035\n",
       "332  2150.0       1     1    NaN     2  10021\n",
       "\n",
       "[333 rows x 6 columns]"
      ]
     },
     "execution_count": 37,
     "metadata": {},
     "output_type": "execute_result"
    }
   ],
   "source": [
    "sudf"
   ]
  },
  {
   "cell_type": "code",
   "execution_count": 38,
   "metadata": {},
   "outputs": [
    {
     "data": {
      "text/html": [
       "<div>\n",
       "<style scoped>\n",
       "    .dataframe tbody tr th:only-of-type {\n",
       "        vertical-align: middle;\n",
       "    }\n",
       "\n",
       "    .dataframe tbody tr th {\n",
       "        vertical-align: top;\n",
       "    }\n",
       "\n",
       "    .dataframe thead th {\n",
       "        text-align: right;\n",
       "    }\n",
       "</style>\n",
       "<table border=\"1\" class=\"dataframe\">\n",
       "  <thead>\n",
       "    <tr style=\"text-align: right;\">\n",
       "      <th></th>\n",
       "      <th>Rent</th>\n",
       "    </tr>\n",
       "  </thead>\n",
       "  <tbody>\n",
       "    <tr>\n",
       "      <th>count</th>\n",
       "      <td>333.000</td>\n",
       "    </tr>\n",
       "    <tr>\n",
       "      <th>mean</th>\n",
       "      <td>2492.628</td>\n",
       "    </tr>\n",
       "    <tr>\n",
       "      <th>std</th>\n",
       "      <td>366.882</td>\n",
       "    </tr>\n",
       "    <tr>\n",
       "      <th>min</th>\n",
       "      <td>1500.000</td>\n",
       "    </tr>\n",
       "    <tr>\n",
       "      <th>25%</th>\n",
       "      <td>2200.000</td>\n",
       "    </tr>\n",
       "    <tr>\n",
       "      <th>50%</th>\n",
       "      <td>2525.000</td>\n",
       "    </tr>\n",
       "    <tr>\n",
       "      <th>75%</th>\n",
       "      <td>2800.000</td>\n",
       "    </tr>\n",
       "    <tr>\n",
       "      <th>max</th>\n",
       "      <td>3000.000</td>\n",
       "    </tr>\n",
       "  </tbody>\n",
       "</table>\n",
       "</div>"
      ],
      "text/plain": [
       "           Rent\n",
       "count   333.000\n",
       "mean   2492.628\n",
       "std     366.882\n",
       "min    1500.000\n",
       "25%    2200.000\n",
       "50%    2525.000\n",
       "75%    2800.000\n",
       "max    3000.000"
      ]
     },
     "execution_count": 38,
     "metadata": {},
     "output_type": "execute_result"
    }
   ],
   "source": [
    "sudf.describe()"
   ]
  },
  {
   "cell_type": "code",
   "execution_count": 39,
   "metadata": {},
   "outputs": [
    {
     "name": "stderr",
     "output_type": "stream",
     "text": [
      "C:\\Users\\ACER\\AppData\\Local\\Temp\\ipykernel_23036\\938725536.py:1: SettingWithCopyWarning: \n",
      "A value is trying to be set on a copy of a slice from a DataFrame.\n",
      "Try using .loc[row_indexer,col_indexer] = value instead\n",
      "\n",
      "See the caveats in the documentation: https://pandas.pydata.org/pandas-docs/stable/user_guide/indexing.html#returning-a-view-versus-a-copy\n",
      "  sudf.loc[:,'Beds'] = sudf['Beds'].map(lambda x: 0 if 'Studio' in x else x)\n"
     ]
    }
   ],
   "source": [
    "sudf.loc[:,'Beds'] = sudf['Beds'].map(lambda x: 0 if 'Studio' in x else x)"
   ]
  },
  {
   "cell_type": "code",
   "execution_count": 40,
   "metadata": {},
   "outputs": [
    {
     "name": "stdout",
     "output_type": "stream",
     "text": [
      "<class 'pandas.core.frame.DataFrame'>\n",
      "RangeIndex: 333 entries, 0 to 332\n",
      "Data columns (total 6 columns):\n",
      " #   Column  Non-Null Count  Dtype  \n",
      "---  ------  --------------  -----  \n",
      " 0   Rent    333 non-null    float64\n",
      " 1   Beds    333 non-null    object \n",
      " 2   Baths   333 non-null    object \n",
      " 3   Sqrt    108 non-null    object \n",
      " 4   Floor   164 non-null    object \n",
      " 5   Zip     320 non-null    object \n",
      "dtypes: float64(1), object(5)\n",
      "memory usage: 15.7+ KB\n"
     ]
    }
   ],
   "source": [
    "sudf.info()"
   ]
  },
  {
   "cell_type": "code",
   "execution_count": 41,
   "metadata": {},
   "outputs": [
    {
     "name": "stderr",
     "output_type": "stream",
     "text": [
      "C:\\Users\\ACER\\AppData\\Local\\Temp\\ipykernel_23036\\3602357540.py:1: SettingWithCopyWarning: \n",
      "A value is trying to be set on a copy of a slice from a DataFrame.\n",
      "Try using .loc[row_indexer,col_indexer] = value instead\n",
      "\n",
      "See the caveats in the documentation: https://pandas.pydata.org/pandas-docs/stable/user_guide/indexing.html#returning-a-view-versus-a-copy\n",
      "  sudf.loc[:, 'Rent'] = sudf.loc[:, 'Rent'].astype(int)\n",
      "C:\\Users\\ACER\\AppData\\Local\\Temp\\ipykernel_23036\\3602357540.py:1: DeprecationWarning: In a future version, `df.iloc[:, i] = newvals` will attempt to set the values inplace instead of always setting a new array. To retain the old behavior, use either `df[df.columns[i]] = newvals` or, if columns are non-unique, `df.isetitem(i, newvals)`\n",
      "  sudf.loc[:, 'Rent'] = sudf.loc[:, 'Rent'].astype(int)\n",
      "C:\\Users\\ACER\\AppData\\Local\\Temp\\ipykernel_23036\\3602357540.py:2: SettingWithCopyWarning: \n",
      "A value is trying to be set on a copy of a slice from a DataFrame.\n",
      "Try using .loc[row_indexer,col_indexer] = value instead\n",
      "\n",
      "See the caveats in the documentation: https://pandas.pydata.org/pandas-docs/stable/user_guide/indexing.html#returning-a-view-versus-a-copy\n",
      "  sudf.loc[:, 'Beds'] = sudf.loc[:, 'Beds'].astype(int)\n",
      "C:\\Users\\ACER\\AppData\\Local\\Temp\\ipykernel_23036\\3602357540.py:2: DeprecationWarning: In a future version, `df.iloc[:, i] = newvals` will attempt to set the values inplace instead of always setting a new array. To retain the old behavior, use either `df[df.columns[i]] = newvals` or, if columns are non-unique, `df.isetitem(i, newvals)`\n",
      "  sudf.loc[:, 'Beds'] = sudf.loc[:, 'Beds'].astype(int)\n"
     ]
    }
   ],
   "source": [
    "sudf.loc[:, 'Rent'] = sudf.loc[:, 'Rent'].astype(int)\n",
    "sudf.loc[:, 'Beds'] = sudf.loc[:, 'Beds'].astype(int)"
   ]
  },
  {
   "cell_type": "code",
   "execution_count": 42,
   "metadata": {},
   "outputs": [
    {
     "name": "stdout",
     "output_type": "stream",
     "text": [
      "<class 'pandas.core.frame.DataFrame'>\n",
      "RangeIndex: 333 entries, 0 to 332\n",
      "Data columns (total 6 columns):\n",
      " #   Column  Non-Null Count  Dtype \n",
      "---  ------  --------------  ----- \n",
      " 0   Rent    333 non-null    int32 \n",
      " 1   Beds    333 non-null    int32 \n",
      " 2   Baths   333 non-null    object\n",
      " 3   Sqrt    108 non-null    object\n",
      " 4   Floor   164 non-null    object\n",
      " 5   Zip     320 non-null    object\n",
      "dtypes: int32(2), object(4)\n",
      "memory usage: 13.1+ KB\n"
     ]
    }
   ],
   "source": [
    "sudf.info()"
   ]
  },
  {
   "cell_type": "code",
   "execution_count": 44,
   "metadata": {},
   "outputs": [
    {
     "name": "stderr",
     "output_type": "stream",
     "text": [
      "C:\\Users\\ACER\\AppData\\Local\\Temp\\ipykernel_23036\\1102597879.py:1: SettingWithCopyWarning: \n",
      "A value is trying to be set on a copy of a slice from a DataFrame.\n",
      "Try using .loc[row_indexer,col_indexer] = value instead\n",
      "\n",
      "See the caveats in the documentation: https://pandas.pydata.org/pandas-docs/stable/user_guide/indexing.html#returning-a-view-versus-a-copy\n",
      "  sudf.loc[:, 'Baths'] = sudf.loc[:, 'Baths'].astype(float)\n",
      "C:\\Users\\ACER\\AppData\\Local\\Temp\\ipykernel_23036\\1102597879.py:1: DeprecationWarning: In a future version, `df.iloc[:, i] = newvals` will attempt to set the values inplace instead of always setting a new array. To retain the old behavior, use either `df[df.columns[i]] = newvals` or, if columns are non-unique, `df.isetitem(i, newvals)`\n",
      "  sudf.loc[:, 'Baths'] = sudf.loc[:, 'Baths'].astype(float)\n"
     ]
    }
   ],
   "source": [
    "sudf.loc[:, 'Baths'] = sudf.loc[:, 'Baths'].astype(float)"
   ]
  },
  {
   "cell_type": "code",
   "execution_count": 45,
   "metadata": {},
   "outputs": [
    {
     "name": "stderr",
     "output_type": "stream",
     "text": [
      "C:\\Users\\ACER\\AppData\\Local\\Temp\\ipykernel_23036\\1239239243.py:1: SettingWithCopyWarning: \n",
      "A value is trying to be set on a copy of a slice from a DataFrame.\n",
      "Try using .loc[row_indexer,col_indexer] = value instead\n",
      "\n",
      "See the caveats in the documentation: https://pandas.pydata.org/pandas-docs/stable/user_guide/indexing.html#returning-a-view-versus-a-copy\n",
      "  sudf.loc[:, 'Sqrt'] = sudf.loc[:, 'Sqrt'].str.replace(',','')\n"
     ]
    }
   ],
   "source": [
    "sudf.loc[:, 'Sqrt'] = sudf.loc[:, 'Sqrt'].str.replace(',','')"
   ]
  },
  {
   "cell_type": "code",
   "execution_count": 46,
   "metadata": {},
   "outputs": [
    {
     "name": "stderr",
     "output_type": "stream",
     "text": [
      "C:\\Users\\ACER\\AppData\\Local\\Temp\\ipykernel_23036\\2550817120.py:1: SettingWithCopyWarning: \n",
      "A value is trying to be set on a copy of a slice from a DataFrame.\n",
      "Try using .loc[row_indexer,col_indexer] = value instead\n",
      "\n",
      "See the caveats in the documentation: https://pandas.pydata.org/pandas-docs/stable/user_guide/indexing.html#returning-a-view-versus-a-copy\n",
      "  sudf.loc[:, 'Sqrt'] = sudf.loc[:, 'Sqrt'].astype(float)\n",
      "C:\\Users\\ACER\\AppData\\Local\\Temp\\ipykernel_23036\\2550817120.py:1: DeprecationWarning: In a future version, `df.iloc[:, i] = newvals` will attempt to set the values inplace instead of always setting a new array. To retain the old behavior, use either `df[df.columns[i]] = newvals` or, if columns are non-unique, `df.isetitem(i, newvals)`\n",
      "  sudf.loc[:, 'Sqrt'] = sudf.loc[:, 'Sqrt'].astype(float)\n"
     ]
    }
   ],
   "source": [
    "sudf.loc[:, 'Sqrt'] = sudf.loc[:, 'Sqrt'].astype(float)"
   ]
  },
  {
   "cell_type": "code",
   "execution_count": 47,
   "metadata": {},
   "outputs": [
    {
     "name": "stderr",
     "output_type": "stream",
     "text": [
      "C:\\Users\\ACER\\AppData\\Local\\Temp\\ipykernel_23036\\2248339159.py:1: SettingWithCopyWarning: \n",
      "A value is trying to be set on a copy of a slice from a DataFrame.\n",
      "Try using .loc[row_indexer,col_indexer] = value instead\n",
      "\n",
      "See the caveats in the documentation: https://pandas.pydata.org/pandas-docs/stable/user_guide/indexing.html#returning-a-view-versus-a-copy\n",
      "  sudf.loc[:, 'Floor'] = sudf.loc[:, 'Floor'].astype(float)\n",
      "C:\\Users\\ACER\\AppData\\Local\\Temp\\ipykernel_23036\\2248339159.py:1: DeprecationWarning: In a future version, `df.iloc[:, i] = newvals` will attempt to set the values inplace instead of always setting a new array. To retain the old behavior, use either `df[df.columns[i]] = newvals` or, if columns are non-unique, `df.isetitem(i, newvals)`\n",
      "  sudf.loc[:, 'Floor'] = sudf.loc[:, 'Floor'].astype(float)\n"
     ]
    }
   ],
   "source": [
    "sudf.loc[:, 'Floor'] = sudf.loc[:, 'Floor'].astype(float)"
   ]
  },
  {
   "cell_type": "code",
   "execution_count": 48,
   "metadata": {},
   "outputs": [
    {
     "name": "stdout",
     "output_type": "stream",
     "text": [
      "<class 'pandas.core.frame.DataFrame'>\n",
      "RangeIndex: 333 entries, 0 to 332\n",
      "Data columns (total 6 columns):\n",
      " #   Column  Non-Null Count  Dtype  \n",
      "---  ------  --------------  -----  \n",
      " 0   Rent    333 non-null    int32  \n",
      " 1   Beds    333 non-null    int32  \n",
      " 2   Baths   333 non-null    float64\n",
      " 3   Sqrt    108 non-null    float64\n",
      " 4   Floor   164 non-null    float64\n",
      " 5   Zip     320 non-null    object \n",
      "dtypes: float64(3), int32(2), object(1)\n",
      "memory usage: 13.1+ KB\n"
     ]
    }
   ],
   "source": [
    "sudf.info()"
   ]
  },
  {
   "cell_type": "code",
   "execution_count": 49,
   "metadata": {},
   "outputs": [
    {
     "data": {
      "text/html": [
       "<div>\n",
       "<style scoped>\n",
       "    .dataframe tbody tr th:only-of-type {\n",
       "        vertical-align: middle;\n",
       "    }\n",
       "\n",
       "    .dataframe tbody tr th {\n",
       "        vertical-align: top;\n",
       "    }\n",
       "\n",
       "    .dataframe thead th {\n",
       "        text-align: right;\n",
       "    }\n",
       "</style>\n",
       "<table border=\"1\" class=\"dataframe\">\n",
       "  <thead>\n",
       "    <tr style=\"text-align: right;\">\n",
       "      <th></th>\n",
       "      <th>Rent</th>\n",
       "      <th>Beds</th>\n",
       "      <th>Baths</th>\n",
       "      <th>Sqrt</th>\n",
       "      <th>Floor</th>\n",
       "    </tr>\n",
       "  </thead>\n",
       "  <tbody>\n",
       "    <tr>\n",
       "      <th>count</th>\n",
       "      <td>333.000</td>\n",
       "      <td>333.000</td>\n",
       "      <td>333.000</td>\n",
       "      <td>108.000</td>\n",
       "      <td>164.000</td>\n",
       "    </tr>\n",
       "    <tr>\n",
       "      <th>mean</th>\n",
       "      <td>2492.628</td>\n",
       "      <td>0.820</td>\n",
       "      <td>1.008</td>\n",
       "      <td>528.981</td>\n",
       "      <td>11.201</td>\n",
       "    </tr>\n",
       "    <tr>\n",
       "      <th>std</th>\n",
       "      <td>366.882</td>\n",
       "      <td>0.718</td>\n",
       "      <td>0.082</td>\n",
       "      <td>133.050</td>\n",
       "      <td>86.178</td>\n",
       "    </tr>\n",
       "    <tr>\n",
       "      <th>min</th>\n",
       "      <td>1500.000</td>\n",
       "      <td>0.000</td>\n",
       "      <td>1.000</td>\n",
       "      <td>280.000</td>\n",
       "      <td>1.000</td>\n",
       "    </tr>\n",
       "    <tr>\n",
       "      <th>25%</th>\n",
       "      <td>2200.000</td>\n",
       "      <td>0.000</td>\n",
       "      <td>1.000</td>\n",
       "      <td>447.500</td>\n",
       "      <td>2.000</td>\n",
       "    </tr>\n",
       "    <tr>\n",
       "      <th>50%</th>\n",
       "      <td>2525.000</td>\n",
       "      <td>1.000</td>\n",
       "      <td>1.000</td>\n",
       "      <td>512.000</td>\n",
       "      <td>4.000</td>\n",
       "    </tr>\n",
       "    <tr>\n",
       "      <th>75%</th>\n",
       "      <td>2800.000</td>\n",
       "      <td>1.000</td>\n",
       "      <td>1.000</td>\n",
       "      <td>600.000</td>\n",
       "      <td>5.000</td>\n",
       "    </tr>\n",
       "    <tr>\n",
       "      <th>max</th>\n",
       "      <td>3000.000</td>\n",
       "      <td>3.000</td>\n",
       "      <td>2.000</td>\n",
       "      <td>1090.000</td>\n",
       "      <td>1107.000</td>\n",
       "    </tr>\n",
       "  </tbody>\n",
       "</table>\n",
       "</div>"
      ],
      "text/plain": [
       "           Rent     Beds    Baths      Sqrt     Floor\n",
       "count   333.000  333.000  333.000   108.000   164.000\n",
       "mean   2492.628    0.820    1.008   528.981    11.201\n",
       "std     366.882    0.718    0.082   133.050    86.178\n",
       "min    1500.000    0.000    1.000   280.000     1.000\n",
       "25%    2200.000    0.000    1.000   447.500     2.000\n",
       "50%    2525.000    1.000    1.000   512.000     4.000\n",
       "75%    2800.000    1.000    1.000   600.000     5.000\n",
       "max    3000.000    3.000    2.000  1090.000  1107.000"
      ]
     },
     "execution_count": 49,
     "metadata": {},
     "output_type": "execute_result"
    }
   ],
   "source": [
    "sudf.describe()"
   ]
  },
  {
   "cell_type": "code",
   "execution_count": null,
   "metadata": {},
   "outputs": [],
   "source": []
  }
 ],
 "metadata": {
  "kernelspec": {
   "display_name": "ml39",
   "language": "python",
   "name": "python3"
  },
  "language_info": {
   "codemirror_mode": {
    "name": "ipython",
    "version": 3
   },
   "file_extension": ".py",
   "mimetype": "text/x-python",
   "name": "python",
   "nbconvert_exporter": "python",
   "pygments_lexer": "ipython3",
   "version": "3.9.16"
  },
  "orig_nbformat": 4
 },
 "nbformat": 4,
 "nbformat_minor": 2
}
