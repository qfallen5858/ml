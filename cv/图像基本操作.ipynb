{
 "cells": [
  {
   "attachments": {},
   "cell_type": "markdown",
   "metadata": {},
   "source": [
    "数据读取-图像\n",
    "- cv2.IMREAD_COLOR:彩色图像\n",
    "- cv2.IMREAD_GRAYSCALE:灰度图像"
   ]
  },
  {
   "cell_type": "code",
   "execution_count": 1,
   "metadata": {},
   "outputs": [],
   "source": [
    "import cv2\n",
    "import matplotlib.pyplot as pl\n",
    "import numpy as np\n",
    "%matplotlib inline \n",
    "\n",
    "img = cv2.imread(r'car.png')"
   ]
  },
  {
   "cell_type": "code",
   "execution_count": 2,
   "metadata": {},
   "outputs": [
    {
     "data": {
      "text/plain": [
       "array([[[254, 194, 159],\n",
       "        [254, 194, 159],\n",
       "        [255, 200, 168],\n",
       "        ...,\n",
       "        [230, 174, 145],\n",
       "        [230, 174, 145],\n",
       "        [230, 174, 145]],\n",
       "\n",
       "       [[255, 197, 161],\n",
       "        [255, 196, 161],\n",
       "        [255, 199, 167],\n",
       "        ...,\n",
       "        [230, 174, 145],\n",
       "        [230, 174, 145],\n",
       "        [230, 174, 145]],\n",
       "\n",
       "       [[255, 197, 162],\n",
       "        [255, 196, 160],\n",
       "        [252, 196, 162],\n",
       "        ...,\n",
       "        [230, 174, 145],\n",
       "        [230, 174, 145],\n",
       "        [230, 174, 145]],\n",
       "\n",
       "       ...,\n",
       "\n",
       "       [[ 47,  37,  36],\n",
       "        [ 47,  37,  36],\n",
       "        [ 49,  40,  38],\n",
       "        ...,\n",
       "        [153, 157, 163],\n",
       "        [148, 151, 158],\n",
       "        [142, 146, 152]],\n",
       "\n",
       "       [[ 47,  38,  35],\n",
       "        [ 47,  38,  35],\n",
       "        [ 49,  40,  37],\n",
       "        ...,\n",
       "        [150, 155, 159],\n",
       "        [156, 161, 165],\n",
       "        [160, 164, 168]],\n",
       "\n",
       "       [[ 49,  40,  37],\n",
       "        [ 50,  41,  38],\n",
       "        [ 44,  35,  32],\n",
       "        ...,\n",
       "        [155, 160, 163],\n",
       "        [155, 160, 163],\n",
       "        [153, 158, 161]]], dtype=uint8)"
      ]
     },
     "execution_count": 2,
     "metadata": {},
     "output_type": "execute_result"
    }
   ],
   "source": [
    "img"
   ]
  },
  {
   "cell_type": "code",
   "execution_count": 3,
   "metadata": {},
   "outputs": [],
   "source": [
    "cv2.imshow('image', img)\n",
    "cv2.waitKey(0)\n",
    "cv2.destroyAllWindows()"
   ]
  },
  {
   "cell_type": "code",
   "execution_count": null,
   "metadata": {},
   "outputs": [],
   "source": []
  }
 ],
 "metadata": {
  "kernelspec": {
   "display_name": "ml38",
   "language": "python",
   "name": "python3"
  },
  "language_info": {
   "codemirror_mode": {
    "name": "ipython",
    "version": 3
   },
   "file_extension": ".py",
   "mimetype": "text/x-python",
   "name": "python",
   "nbconvert_exporter": "python",
   "pygments_lexer": "ipython3",
   "version": "3.8.16"
  },
  "orig_nbformat": 4
 },
 "nbformat": 4,
 "nbformat_minor": 2
}
