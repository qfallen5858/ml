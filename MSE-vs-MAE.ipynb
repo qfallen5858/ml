{
 "cells": [
  {
   "attachments": {},
   "cell_type": "markdown",
   "metadata": {},
   "source": [
    "# 衡量回归算法的标准"
   ]
  },
  {
   "cell_type": "code",
   "execution_count": 1,
   "metadata": {},
   "outputs": [],
   "source": [
    "import numpy as np  \n",
    "import matplotlib.pyplot as plt\n",
    "from sklearn.datasets import fetch_openml\n",
    "\n"
   ]
  },
  {
   "attachments": {},
   "cell_type": "markdown",
   "metadata": {},
   "source": [
    "波士顿房产数据  "
   ]
  },
  {
   "cell_type": "code",
   "execution_count": 13,
   "metadata": {},
   "outputs": [
    {
     "name": "stderr",
     "output_type": "stream",
     "text": [
      "c:\\Users\\ACER\\.conda\\envs\\ml\\Lib\\site-packages\\sklearn\\datasets\\_openml.py:301: UserWarning: Multiple active versions of the dataset matching the name boston exist. Versions may be fundamentally different, returning version 1.\n",
      "  warn(\n"
     ]
    }
   ],
   "source": [
    "data_x, data_y = fetch_openml(name=\"boston\",  as_frame=False, return_X_y=True, parser=\"pandas\")"
   ]
  },
  {
   "cell_type": "code",
   "execution_count": 14,
   "metadata": {},
   "outputs": [
    {
     "data": {
      "text/plain": [
       "array([[0.00632, 18.0, 2.31, ..., 15.3, 396.9, 4.98],\n",
       "       [0.02731, 0.0, 7.07, ..., 17.8, 396.9, 9.14],\n",
       "       [0.02729, 0.0, 7.07, ..., 17.8, 392.83, 4.03],\n",
       "       ...,\n",
       "       [0.06076, 0.0, 11.93, ..., 21.0, 396.9, 5.64],\n",
       "       [0.10959, 0.0, 11.93, ..., 21.0, 393.45, 6.48],\n",
       "       [0.04741, 0.0, 11.93, ..., 21.0, 396.9, 7.88]], dtype=object)"
      ]
     },
     "execution_count": 14,
     "metadata": {},
     "output_type": "execute_result"
    }
   ],
   "source": [
    "X = data_x[data_y < 50.0]\n",
    "y = data_y[data_y < 50.0]\n",
    "X"
   ]
  },
  {
   "cell_type": "code",
   "execution_count": 16,
   "metadata": {},
   "outputs": [],
   "source": [
    "from sklearn.model_selection import train_test_split\n",
    "X_train, X_test, y_train, y_test = train_test_split(X, y,random_state=666)"
   ]
  },
  {
   "cell_type": "code",
   "execution_count": 18,
   "metadata": {},
   "outputs": [
    {
     "data": {
      "text/plain": [
       "array([18. , 24.8, 13.5, 34.9, 23.7, 13.8, 25.1, 28.5, 15.6, 33. , 16.2,\n",
       "       16.3, 29.4, 17.8, 22.2, 20.6, 13.8, 19.4, 22.5, 23.9, 12.7, 24.8,\n",
       "       23.9, 20.7, 23.2, 37.9, 13.5, 22.4, 12.3, 32.7, 43.1,  8.8, 12.8,\n",
       "       41.7, 19.1, 21.7, 10.5, 24. , 27. , 23.1, 11. , 18.9, 15.2, 19.7,\n",
       "       19.4, 14.3, 23.3, 31. , 19.8, 22.8, 19.6, 14.9, 24.7, 15.4, 19.6,\n",
       "       18.9, 23. , 10.8, 28.6, 35.4, 18.8, 23.4, 22.6,  8.3, 12.7, 26.6,\n",
       "       19.8, 18.9, 29. , 19. , 13. , 22.3, 22.8, 19.5, 14.1, 28.4, 20.1,\n",
       "       13.9, 12. , 33.1, 38.7, 17.5, 19.9, 20.2, 29.6, 21.2, 21.6, 23.9,\n",
       "       28.1, 20.4, 24.4, 35.4, 46. , 20.4, 16. , 31.5, 44. , 21. ,  7.2,\n",
       "       20.8, 33.2, 13.1, 39.8, 16.5, 14.9, 14.5, 26.5, 19.1, 20.1, 30.1,\n",
       "       23. , 23.7, 10.5, 23.1, 37.3, 13.9, 15.6, 21.1, 32.5, 10.2, 29. ,\n",
       "       16.4, 10.4])"
      ]
     },
     "execution_count": 18,
     "metadata": {},
     "output_type": "execute_result"
    }
   ],
   "source": [
    "y_test"
   ]
  },
  {
   "cell_type": "code",
   "execution_count": 21,
   "metadata": {},
   "outputs": [
    {
     "data": {
      "text/plain": [
       "32.59756158869992"
      ]
     },
     "execution_count": 21,
     "metadata": {},
     "output_type": "execute_result"
    }
   ],
   "source": [
    "from sklearn.linear_model import LinearRegression\n",
    "linearRegression = LinearRegression()\n",
    "linearRegression.fit(X_train, y_train)\n",
    "linearRegression.coef_\n",
    "linearRegression.intercept_\n",
    "# y_predict = linearRegression.predict(X_test)\n",
    "# y_predict\n",
    "# score = linearRegression.score(y_test, y_predict)\n",
    "# score"
   ]
  },
  {
   "cell_type": "code",
   "execution_count": null,
   "metadata": {},
   "outputs": [],
   "source": []
  }
 ],
 "metadata": {
  "kernelspec": {
   "display_name": "ml",
   "language": "python",
   "name": "python3"
  },
  "language_info": {
   "codemirror_mode": {
    "name": "ipython",
    "version": 3
   },
   "file_extension": ".py",
   "mimetype": "text/x-python",
   "name": "python",
   "nbconvert_exporter": "python",
   "pygments_lexer": "ipython3",
   "version": "3.11.2"
  },
  "orig_nbformat": 4
 },
 "nbformat": 4,
 "nbformat_minor": 2
}
